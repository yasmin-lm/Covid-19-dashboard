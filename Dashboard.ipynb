{
 "cells": [
  {
   "cell_type": "markdown",
   "metadata": {},
   "source": [
    "[Covid-19 Dashboard](https://github.com/yasmin-lm/Covid-19-dashboard) (C) Yasmin Mohammadi, 2023 ([y.mohammadi@se23.qmul.ac.uk](mailto:y.mohammadi@se23.qmul.ac.uk) - [web](http://www.uk.linkedin.com/in/yasmin-mohammadi-63470b143?trk=public_profile_browsemap)). This notebook is released under the [GNU GPLv3.0 or later](https://www.gnu.org/licenses/)."
   ]
  },
  {
   "cell_type": "markdown",
   "metadata": {},
   "source": [
    "# Covid-19 Dashboard"
   ]
  },
  {
   "cell_type": "markdown",
   "metadata": {},
   "source": [
    "This Covid Dashboard, is displayed using [voila](https://voila.readthedocs.io/en/stable/index.html), a Python dashboarding tool that converts notebooks to standalone dashboards. \n",
    "\n",
    "The purpose of this dashboard, is to follow trends in Covid testing undertaken by Public Health England during, and following the COVID-19 pandemic. This data focuses on the number of new cases reported on a given date and the cumulative tests in the same time period. \n"
   ]
  },
  {
   "cell_type": "code",
   "execution_count": 99,
   "metadata": {},
   "outputs": [],
   "source": [
    "from IPython.display import clear_output\n",
    "import ipywidgets as wdg\n",
    "import pandas as pd\n",
    "import numpy as np\n",
    "import matplotlib.pyplot as plt\n",
    "import json\n",
    "from uk_covid19 import Cov19API"
   ]
  },
  {
   "cell_type": "code",
   "execution_count": 100,
   "metadata": {},
   "outputs": [],
   "source": [
    "%matplotlib inline\n",
    "# make figures larger\n",
    "plt.rcParams['figure.dpi'] = 100"
   ]
  },
  {
   "cell_type": "markdown",
   "metadata": {},
   "source": [
    "## Load of data\n",
    "\n",
    "The data for this dashboard is accessed through a web-based Application Programming Interface (API). It exchanges information with the Public Health England Coronavirus dashboard in JSON format, based on the *http* protocol. \n",
    "\n",
    "For this dashboard, data relating to the region: *England*, as well as data relating to *cumulative PCR tests, number of new cases* and *date of testing* was retrieved and packaged into tables and interactive graphs."
   ]
  },
  {
   "cell_type": "code",
   "execution_count": 101,
   "metadata": {},
   "outputs": [],
   "source": [
    "# Load JSON files and store the raw data in some variable. Edit as appropriate\n",
    "with open (\"pcrtests.json\", \"rt\") as INFILE:\n",
    "    jsondata=json.load(INFILE)"
   ]
  },
  {
   "cell_type": "markdown",
   "metadata": {},
   "source": [
    "## Wrangle the data\n",
    "\n",
    "The dashboard wrangles the JSON data retrieved from the API to create relevant tables and graphs such as Table 1 below. From this, we can identify trends in case numbers through the pandemic and following the pandemic. \n",
    "\n",
    "Table 1. Table showing the number of PCR cases tested positive and the total number cumulative tests on a given date. The table only shows the first 5 and last five entries taken from the API."
   ]
  },
  {
   "cell_type": "code",
   "execution_count": 102,
   "metadata": {},
   "outputs": [
    {
     "name": "stdout",
     "output_type": "stream",
     "text": [
      "            cases        tests\n",
      "2020-01-03    0.0        287.0\n",
      "2020-01-04    0.0        422.0\n",
      "2020-01-05    0.0        735.0\n",
      "2020-01-06    0.0        793.0\n",
      "2020-01-07    0.0        930.0\n",
      "...           ...          ...\n",
      "2023-10-14  363.0  223033424.0\n",
      "2023-10-15  321.0  223037650.0\n",
      "2023-10-16  472.0  223042266.0\n",
      "2023-10-17  320.0  223043396.0\n",
      "2023-10-18  120.0          0.0\n",
      "\n",
      "[1385 rows x 2 columns]\n"
     ]
    }
   ],
   "source": [
    "def wrangle_data(rawdata):\n",
    "    \"\"\" Parameters: rawdata - data from json file or API call. Returns a dataframe.\n",
    "    Edit to include the code that wrangles the data, creates the dataframe and fills it in. \"\"\"\n",
    "    pcrdatalist=jsondata['data']\n",
    "\n",
    "    pcrdates=[dictionary['date'] for dictionary in pcrdatalist ]\n",
    "    pcrdates.sort()\n",
    "\n",
    "    def parse_date(datestring):\n",
    "        \"\"\" Convert a date string into a pandas datetime object \"\"\"\n",
    "        return pd.to_datetime(datestring, format=\"%Y-%m-%d\")\n",
    "        \n",
    "    startdate=parse_date(pcrdates[0])\n",
    "    enddate=parse_date(pcrdates[-1])\n",
    "        \n",
    "    index=pd.date_range(startdate, enddate, freq='D')\n",
    "    pcrtestsdf=pd.DataFrame(index=index, columns=['cases', 'tests'])\n",
    "\n",
    "    for entry in pcrdatalist: # each entry is a dictionary with date, cases, hospital and deaths\n",
    "        date=parse_date(entry['date'])\n",
    "        for column in ['cases', 'tests']:\n",
    "            # check that nothing is there yet - just in case some dates are duplicated,\n",
    "            # maybe with data for different columns in each entry\n",
    "            if pd.isna(pcrtestsdf.loc[date, column]): \n",
    "                # replace None with 0 in our data \n",
    "                value= float(entry[column]) if entry[column]!=None else 0.0\n",
    "                # this is the way you access a specific location in the dataframe - use .loc\n",
    "                # and put index,column in a single set of [ ]\n",
    "                pcrtestsdf.loc[date, column]=value\n",
    "                \n",
    "                # fill in any remaining \"holes\" due to missing dates\n",
    "    pcrtestsdf.fillna(0.0, inplace=True)\n",
    "\n",
    "    return pcrtestsdf\n",
    "\n",
    "# putting the wrangling code into a function allows you to call it again after refreshing the data through \n",
    "# the API. You should call the function directly on the JSON data when the dashboard starts, by including \n",
    "# the call in the cell as below:\n",
    "pcrtestsdf=wrangle_data(jsondata) # df is the dataframe for plotting\n",
    "print (pcrtestsdf)"
   ]
  },
  {
   "cell_type": "markdown",
   "metadata": {},
   "source": [
    "## Download current data"
   ]
  },
  {
   "cell_type": "markdown",
   "metadata": {},
   "source": [
    "In order to view the most current data for this dataset, please click the button below to refresh this page. This will retrieve the most recent information from the Public Health England Coronavirus database. "
   ]
  },
  {
   "cell_type": "code",
   "execution_count": 112,
   "metadata": {},
   "outputs": [],
   "source": [
    "# Place your API access code in this function. Do not call this function directly; it will be called by \n",
    "# the button callback. \n",
    "def access_api():\n",
    "    \"\"\" Accesses the PHE API. Returns raw data in the same format as data loaded from the \"canned\" JSON file. \"\"\"\n",
    "        \n",
    "    filters = [\n",
    "    'areaType=nation',\n",
    "    'areaName=England'\n",
    "    ]\n",
    "    \n",
    "    \n",
    "    # values here are the names of the PHE metrics\n",
    "    structure = {\n",
    "        \"date\": \"date\",\n",
    "        \"cases\": \"newCasesPCROnlyBySpecimenDate\",\n",
    "        \"tests\": \"cumPCRTestsBySpecimenDate\"\n",
    "    }\n",
    "    \n",
    "    api = Cov19API(filters=filters, structure=structure)\n",
    "    \n",
    "    pcrtests=api.get_json()\n",
    "            \n",
    "    return pcrtests # return data read from the API\n"
   ]
  },
  {
   "cell_type": "code",
   "execution_count": 104,
   "metadata": {},
   "outputs": [
    {
     "data": {
      "application/vnd.jupyter.widget-view+json": {
       "model_id": "0f8f2c6254694ee980d4c07b7a54f49f",
       "version_major": 2,
       "version_minor": 0
      },
      "text/plain": [
       "Button(description='Referesh data', icon='download', style=ButtonStyle(), tooltip='Click to download current P…"
      ]
     },
     "metadata": {},
     "output_type": "display_data"
    }
   ],
   "source": [
    "# Printout from this function will be lost in Voila unless captured in an\n",
    "# output widget - therefore, we give feedback to the user by changing the \n",
    "# appearance of the button\n",
    "def api_button_callback(button):\n",
    "    \"\"\" Button callback - it must take the button as its parameter (unused in this case).\n",
    "    Accesses API, wrangles data, updates global variable df used for plotting. \"\"\"\n",
    "    # Get fresh data from the API. If you have time, include some error handling\n",
    "    # around this call.\n",
    "    apidata=access_api()\n",
    "    # wrangle the data and overwrite the dataframe for plotting\n",
    "    global pcrtestsdf\n",
    "    pcrtestsdf=wrangle_data(apidata)\n",
    "    # the graph won't refresh until the user interacts with the widget.\n",
    "    # this function simulates the interaction, see Graph and Analysis below.\n",
    "    # you can omit this step in the first instance\n",
    "    refresh_graph()\n",
    "    # after all is done, you can switch the icon on the button to a \"check\" sign\n",
    "    # and optionally disable the button - it won't be needed again. You can use icons\n",
    "    # \"unlink\" or \"times\" and change the button text to \"Unavailable\" in case the \n",
    "    # api call fails.\n",
    "    apibutton.icon=\"check\"\n",
    "    apibutton.disabled=True\n",
    "    # apibutton.disabled=True\n",
    "\n",
    "    \n",
    "apibutton=wdg.Button(\n",
    "    description='Referesh data', # you may want to change this...\n",
    "    disabled=False,\n",
    "    button_style='', # 'success', 'info', 'warning', 'danger' or ''\n",
    "    tooltip=\"Click to download current Public Health England data\",\n",
    "    # FontAwesome names without the `fa-` prefix - try \"download\"\n",
    "    icon='download'\n",
    ")\n",
    "\n",
    "# remember to register your button callback function with the button\n",
    "apibutton.on_click(api_button_callback) # the name of your function inside these brackets\n",
    "\n",
    "display(apibutton)\n",
    "\n",
    "# run all cells before clicking on this button"
   ]
  },
  {
   "cell_type": "markdown",
   "metadata": {},
   "source": [
    "## Graphs and Analysis"
   ]
  },
  {
   "cell_type": "markdown",
   "metadata": {},
   "source": [
    "Graph 1 below, shows the number of new cases tested by PCR and the total cumulative PCR tests for a given date.\n",
    "\n",
    "Use the interactive widgets to change the way the graph is viewed. "
   ]
  },
  {
   "cell_type": "code",
   "execution_count": 105,
   "metadata": {},
   "outputs": [
    {
     "data": {
      "application/vnd.jupyter.widget-view+json": {
       "model_id": "47b153e033bc4d7eadbb32e5045db975",
       "version_major": 2,
       "version_minor": 0
      },
      "text/plain": [
       "HBox(children=(SelectMultiple(description='Stats:', index=(0, 1), options=('cases', 'tests'), rows=2, value=('…"
      ]
     },
     "metadata": {},
     "output_type": "display_data"
    },
    {
     "data": {
      "application/vnd.jupyter.widget-view+json": {
       "model_id": "f8927f2e42d24af7a85ab4c9eac06352",
       "version_major": 2,
       "version_minor": 0
      },
      "text/plain": [
       "Output()"
      ]
     },
     "metadata": {},
     "output_type": "display_data"
    }
   ],
   "source": [
    "def plot_pcrtests():\n",
    "    pcrtestsdf.plot()\n",
    "    pcrtestsdf.plot(logy=True)\n",
    "    plt.show() # important! update won't work properly without this\n",
    "    \n",
    "tests=wdg.SelectMultiple(\n",
    "    options=['cases', 'tests'],\n",
    "    value=['cases', 'tests'],\n",
    "    rows=2,\n",
    "    description='Stats:',\n",
    "    disabled=False\n",
    ")\n",
    "\n",
    "scale=wdg.RadioButtons(\n",
    "    options=['linear', 'log'],\n",
    "#   value='pineapple', # Defaults to 'pineapple'\n",
    "#   layout={'width': 'max-content'}, # If the items' names are long\n",
    "    description='Scale:',\n",
    "    disabled=False\n",
    ")\n",
    "\n",
    "# try replacing HBox with a VBox\n",
    "controls=wdg.HBox([tests, scale])\n",
    "\n",
    "def pcrtests_graph(gcols, gscale):\n",
    "    if gscale=='linear':\n",
    "        logscale=False\n",
    "    else:\n",
    "        logscale=True\n",
    "    ncols=len(gcols)\n",
    "    if ncols>0:\n",
    "        pcrtestsdf[list(gcols)].plot(logy=logscale)\n",
    "        plt.show() # important - graphs won't update if this is missing \n",
    "    else:\n",
    "        print(\"Click to select data for graph\")\n",
    "        print(\"(CTRL-Click to select more than one category)\")\n",
    "\n",
    "\n",
    "def refresh_graph():\n",
    "    \"\"\" We change the value of the widget in order to force a redraw of the graph;\n",
    "    this is useful when the data have been updated. This is a bit of a gimmick; it\n",
    "    needs to be customised for one of your widgets. \"\"\"\n",
    "    current=scale.value\n",
    "    if current==scale.options['linear']:\n",
    "        other=scale.options['log']\n",
    "    else:\n",
    "        other=scale.options['linear']\n",
    "    scale.value=other # forces the redraw\n",
    "    scale.value=current # now we can change it back\n",
    "    \n",
    "    \n",
    "graph=wdg.interactive_output(pcrtests_graph, {'gcols': tests, 'gscale': scale})\n",
    "    \n",
    "display(controls, graph)"
   ]
  },
  {
   "cell_type": "markdown",
   "metadata": {},
   "source": [
    "Graph 1. PCR tests and positive cases tested by Public Health England from January 2020, to date."
   ]
  },
  {
   "cell_type": "markdown",
   "metadata": {},
   "source": [
    "**Author and Copyright Notice** \n",
    "\n",
    "Based on UK Government [data](https://coronavirus.data.gov.uk/) published by [Public Health England](https://www.gov.uk/government/organisations/public-health-england) and on the [DIY Covid Dashboard Kit](https://github.com/fsmeraldi/diy-covid19dash), Copyright (C) Yasmin Mohammadi,2023. Released under the [GNU GPLv3.0 or later](https://www.gnu.org/licenses/)."
   ]
  },
  {
   "cell_type": "code",
   "execution_count": null,
   "metadata": {},
   "outputs": [],
   "source": []
  }
 ],
 "metadata": {
  "kernelspec": {
   "display_name": "Python 3 (ipykernel)",
   "language": "python",
   "name": "python3"
  },
  "language_info": {
   "codemirror_mode": {
    "name": "ipython",
    "version": 3
   },
   "file_extension": ".py",
   "mimetype": "text/x-python",
   "name": "python",
   "nbconvert_exporter": "python",
   "pygments_lexer": "ipython3",
   "version": "3.10.12"
  }
 },
 "nbformat": 4,
 "nbformat_minor": 4
}
